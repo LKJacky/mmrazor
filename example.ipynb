{
 "cells": [
  {
   "cell_type": "markdown",
   "metadata": {},
   "source": [
    "# 使用MMRazor对ResNet34进行剪枝"
   ]
  },
  {
   "cell_type": "markdown",
   "metadata": {},
   "source": [
    "## 回顾MMCls"
   ]
  },
  {
   "cell_type": "code",
   "execution_count": 26,
   "metadata": {},
   "outputs": [],
   "source": [
    "# Prepare config path\n",
    "MMCLS_PATH='/home/liukai/Documents/mmlab2/others/mmclassification/'\n",
    "config_file=MMCLS_PATH+'configs/resnet/resnet34_8xb32_in1k.py'"
   ]
  },
  {
   "cell_type": "code",
   "execution_count": 27,
   "metadata": {},
   "outputs": [],
   "source": [
    "# Run config\n",
    "# !python ./tools/train.py $config_file"
   ]
  },
  {
   "cell_type": "markdown",
   "metadata": {},
   "source": [
    "## 准备剪枝config"
   ]
  },
  {
   "cell_type": "markdown",
   "metadata": {},
   "source": [
    "1. 跨库调用resnet34配置文件\n",
    "2. 增加pretrained参数\n",
    "3. 将resnet34模型装入剪枝算法wrapper中\n",
    "4. 配置剪枝比例\n",
    "5. 运行"
   ]
  },
  {
   "cell_type": "code",
   "execution_count": 28,
   "metadata": {},
   "outputs": [],
   "source": [
    "from mmengine import Config\n",
    "prune_config_path='./prune_resnet34.py'\n",
    "def write_config(config_str,filename):\n",
    "    with open(filename,'w') as f:\n",
    "        f.write(config_str)"
   ]
  },
  {
   "cell_type": "markdown",
   "metadata": {},
   "source": [
    "### 1. 跨库调用resnet34配置文件\n",
    "\n",
    "首先我们先跨库调用resnet34的配置文件。通过跨库调用，我们可以继承原有配置文件的所有内容。"
   ]
  },
  {
   "cell_type": "code",
   "execution_count": 29,
   "metadata": {},
   "outputs": [
    {
     "name": "stdout",
     "output_type": "stream",
     "text": [
      "{'type': 'ImageClassifier', 'backbone': {'type': 'ResNet', 'depth': 34, 'num_stages': 4, 'out_indices': (3,), 'style': 'pytorch'}, 'neck': {'type': 'GlobalAveragePooling'}, 'head': {'type': 'LinearClsHead', 'num_classes': 1000, 'in_channels': 512, 'loss': {'type': 'CrossEntropyLoss', 'loss_weight': 1.0}, 'topk': (1, 5)}, '_scope_': 'mmcls'}\n"
     ]
    },
    {
     "name": "stderr",
     "output_type": "stream",
     "text": [
      "/home/liukai/Documents/mmlab2/others/max/mmengine/mmengine/config/utils.py:50: UserWarning: There is not `Config` define in {'Name': 'convnext-base_3rdparty_in21k', 'Metadata': {'Training Data': 'ImageNet-21k', 'FLOPs': 15359124480, 'Parameters': 88591464}, 'In Collection': 'ConvNeXt', 'Results': None, 'Weights': 'https://download.openmmlab.com/mmclassification/v0/convnext/convnext-base_3rdparty_in21k_20220124-13b83eec.pth', 'Converted From': {'Weights': 'https://dl.fbaipublicfiles.com/convnext/convnext_base_22k_224.pth', 'Code': 'https://github.com/facebookresearch/ConvNeXt'}}\n",
      "  warnings.warn(f'There is not `Config` define in {model_cfg}')\n",
      "/home/liukai/Documents/mmlab2/others/max/mmengine/mmengine/config/utils.py:50: UserWarning: There is not `Config` define in {'Name': 'convnext-large_3rdparty_in21k', 'Metadata': {'Training Data': 'ImageNet-21k', 'FLOPs': 34368026112, 'Parameters': 197767336}, 'In Collection': 'ConvNeXt', 'Results': None, 'Weights': 'https://download.openmmlab.com/mmclassification/v0/convnext/convnext-large_3rdparty_in21k_20220124-41b5a79f.pth', 'Converted From': {'Weights': 'https://dl.fbaipublicfiles.com/convnext/convnext_large_22k_224.pth', 'Code': 'https://github.com/facebookresearch/ConvNeXt'}}\n",
      "  warnings.warn(f'There is not `Config` define in {model_cfg}')\n",
      "/home/liukai/Documents/mmlab2/others/max/mmengine/mmengine/config/utils.py:50: UserWarning: There is not `Config` define in {'Name': 'convnext-xlarge_3rdparty_in21k', 'Metadata': {'Training Data': 'ImageNet-21k', 'FLOPs': 60929820672, 'Parameters': 350196968}, 'In Collection': 'ConvNeXt', 'Results': None, 'Weights': 'https://download.openmmlab.com/mmclassification/v0/convnext/convnext-xlarge_3rdparty_in21k_20220124-f909bad7.pth', 'Converted From': {'Weights': 'https://dl.fbaipublicfiles.com/convnext/convnext_xlarge_22k_224.pth', 'Code': 'https://github.com/facebookresearch/ConvNeXt'}}\n",
      "  warnings.warn(f'There is not `Config` define in {model_cfg}')\n",
      "/home/liukai/Documents/mmlab2/others/max/mmengine/mmengine/config/utils.py:50: UserWarning: There is not `Config` define in {'Name': 'swinv2-base-w12_3rdparty_in21k-192px', 'Metadata': {'Training Data': 'ImageNet-21k', 'FLOPs': 8510000000, 'Parameters': 87920000}, 'In Collection': 'Swin-Transformer V2', 'Results': None, 'Weights': 'https://download.openmmlab.com/mmclassification/v0/swin-v2/pretrain/swinv2-base-w12_3rdparty_in21k-192px_20220803-f7dc9763.pth', 'Converted From': {'Weights': 'https://github.com/SwinTransformer/storage/releases/download/v2.0.0/swinv2_base_patch4_window12_192_22k.pth', 'Code': 'https://github.com/microsoft/Swin-Transformer'}}\n",
      "  warnings.warn(f'There is not `Config` define in {model_cfg}')\n",
      "/home/liukai/Documents/mmlab2/others/max/mmengine/mmengine/config/utils.py:50: UserWarning: There is not `Config` define in {'Name': 'swinv2-large-w12_3rdparty_in21k-192px', 'Metadata': {'Training Data': 'ImageNet-21k', 'FLOPs': 19040000000, 'Parameters': 196740000}, 'In Collection': 'Swin-Transformer V2', 'Results': None, 'Weights': 'https://download.openmmlab.com/mmclassification/v0/swin-v2/pretrain/swinv2-large-w12_3rdparty_in21k-192px_20220803-d9073fee.pth', 'Converted From': {'Weights': 'https://github.com/SwinTransformer/storage/releases/download/v2.0.0/swinv2_large_patch4_window12_192_22k.pth', 'Code': 'https://github.com/microsoft/Swin-Transformer'}}\n",
      "  warnings.warn(f'There is not `Config` define in {model_cfg}')\n"
     ]
    }
   ],
   "source": [
    "config_string = \"\"\"\n",
    "_base_ = ['mmcls::resnet/resnet34_8xb32_in1k.py']\n",
    "\"\"\"\n",
    "write_config(config_string, prune_config_path)\n",
    "print(Config.fromfile(prune_config_path)['model'])"
   ]
  },
  {
   "cell_type": "markdown",
   "metadata": {},
   "source": [
    "### 2. 增加预训练参数\n",
    "我们将原有的’model‘字段取出，命名为architecture，并且给archtecture增加init_cfg字段用来加载预训练模型参数。"
   ]
  },
  {
   "cell_type": "code",
   "execution_count": 30,
   "metadata": {},
   "outputs": [],
   "source": [
    "config_string += \"\"\"\\n\n",
    "data_preprocessor = {'type': 'mmcls.ClsDataPreprocessor'}\n",
    "architecture = _base_.model\n",
    "architecture.update({\n",
    "    'init_cfg': {\n",
    "        'type':\n",
    "        'Pretrained',\n",
    "        'checkpoint':\n",
    "        'https://download.openmmlab.com/mmclassification/v0/resnet/resnet34_8xb32_in1k_20210831-f257d4e6.pth'  # noqa\n",
    "    }\n",
    "})\n",
    "\"\"\"\n",
    "write_config(config_string, prune_config_path)"
   ]
  },
  {
   "cell_type": "markdown",
   "metadata": {},
   "source": [
    "### 3. 将resnet34模型装入剪枝算法wrapper中\n",
    "\n",
    "我们将原有的model作为architecture放入到ItePruneAlgorithm算法中，并且将ItePruneAlgorithm作为新的model字段。"
   ]
  },
  {
   "cell_type": "code",
   "execution_count": 31,
   "metadata": {},
   "outputs": [],
   "source": [
    "config_string+=\"\"\"\n",
    "target_pruning_ratio={}\n",
    "model = dict(\n",
    "    _delete_=True,\n",
    "    _scope_='mmrazor',\n",
    "    type='ItePruneAlgorithm',\n",
    "    architecture=architecture,\n",
    "    mutator_cfg=dict(\n",
    "        type='ChannelMutator',\n",
    "        channel_unit_cfg=dict(\n",
    "            type='L1MutableChannelUnit',\n",
    "            default_args=dict(choice_mode='ratio'))),\n",
    "    target_pruning_ratio=target_pruning_ratio,\n",
    "    step_epoch=1,\n",
    "    prune_times=1,\n",
    ")\n",
    "\"\"\"\n",
    "write_config(config_string, prune_config_path)"
   ]
  },
  {
   "cell_type": "markdown",
   "metadata": {},
   "source": [
    "配置到这一步时，我们的config文件已经能够运行了。但是因为我们没有配置target_pruning_ratio，因此现在跑起来就和直接用原有config跑起来没有区别，接下来我们会介绍如何配置剪枝比例"
   ]
  },
  {
   "cell_type": "code",
   "execution_count": 32,
   "metadata": {},
   "outputs": [],
   "source": [
    "#! python ./tools/train.py $prune_config_path"
   ]
  },
  {
   "cell_type": "markdown",
   "metadata": {},
   "source": [
    "### 4. 配置剪枝比例"
   ]
  },
  {
   "cell_type": "markdown",
   "metadata": {},
   "source": [
    "我们的模型使用tracer解析模型，进而获得剪枝节点，为了方便用户配置剪枝节点比例，我们提供了一个获得剪枝节点剪枝比例配置的工具。通过该工具，我们可以方便地对剪枝比例进行配置。"
   ]
  },
  {
   "cell_type": "code",
   "execution_count": 33,
   "metadata": {},
   "outputs": [
    {
     "name": "stdout",
     "output_type": "stream",
     "text": [
      "{\n",
      "    \"backbone.conv1_(0, 64)_64\":1.0,\n",
      "    \"backbone.layer1.0.conv1_(0, 64)_64\":1.0,\n",
      "    \"backbone.layer1.1.conv1_(0, 64)_64\":1.0,\n",
      "    \"backbone.layer1.2.conv1_(0, 64)_64\":1.0,\n",
      "    \"backbone.layer2.0.conv1_(0, 128)_128\":1.0,\n",
      "    \"backbone.layer2.0.conv2_(0, 128)_128\":1.0,\n",
      "    \"backbone.layer2.1.conv1_(0, 128)_128\":1.0,\n",
      "    \"backbone.layer2.2.conv1_(0, 128)_128\":1.0,\n",
      "    \"backbone.layer2.3.conv1_(0, 128)_128\":1.0,\n",
      "    \"backbone.layer3.0.conv1_(0, 256)_256\":1.0,\n",
      "    \"backbone.layer3.0.conv2_(0, 256)_256\":1.0,\n",
      "    \"backbone.layer3.1.conv1_(0, 256)_256\":1.0,\n",
      "    \"backbone.layer3.2.conv1_(0, 256)_256\":1.0,\n",
      "    \"backbone.layer3.3.conv1_(0, 256)_256\":1.0,\n",
      "    \"backbone.layer3.4.conv1_(0, 256)_256\":1.0,\n",
      "    \"backbone.layer3.5.conv1_(0, 256)_256\":1.0,\n",
      "    \"backbone.layer4.0.conv1_(0, 512)_512\":1.0,\n",
      "    \"backbone.layer4.0.conv2_(0, 512)_512\":1.0,\n",
      "    \"backbone.layer4.1.conv1_(0, 512)_512\":1.0,\n",
      "    \"backbone.layer4.2.conv1_(0, 512)_512\":1.0\n",
      "}"
     ]
    }
   ],
   "source": [
    "! python ./tools/get_channel_units.py $prune_config_path --choice -o prune_ratio_templace.json &> /dev/null 2>&1\n",
    "! cat prune_ratio_templace.json\n",
    "! rm prune_ratio_templace.json"
   ]
  },
  {
   "cell_type": "markdown",
   "metadata": {},
   "source": [
    "我们修改该配置模板如下，并且将替换到我们的剪枝配置文件中。\n",
    "\n",
    "（该配置来源于：Li, Hao, et al. \"Pruning filters for efficient convnets.\" arXiv preprint arXiv:1608.08710 (2016).）"
   ]
  },
  {
   "cell_type": "code",
   "execution_count": 34,
   "metadata": {},
   "outputs": [],
   "source": [
    "target_config = \"\"\"\n",
    "stage_ratio_1 = 0.7\n",
    "stage_ratio_2 = 0.7\n",
    "stage_ratio_3 = 0.7\n",
    "stage_ratio_4 = 1.0\n",
    "\n",
    "target_pruning_ratio = {\n",
    "    \"backbone.conv1_(0, 64)_64\": stage_ratio_1,\n",
    "    \"backbone.layer1.0.conv1_(0, 64)_64\": stage_ratio_1,\n",
    "    \"backbone.layer1.1.conv1_(0, 64)_64\": stage_ratio_1,\n",
    "    \"backbone.layer1.2.conv1_(0, 64)_64\": stage_ratio_1,\n",
    "    \"backbone.layer2.0.conv1_(0, 128)_128\": stage_ratio_2,\n",
    "    \"backbone.layer2.0.conv2_(0, 128)_128\": stage_ratio_2,\n",
    "    \"backbone.layer2.1.conv1_(0, 128)_128\": stage_ratio_2,\n",
    "    \"backbone.layer2.2.conv1_(0, 128)_128\": stage_ratio_2,\n",
    "    \"backbone.layer2.3.conv1_(0, 128)_128\": stage_ratio_2,\n",
    "    \"backbone.layer3.0.conv1_(0, 256)_256\": stage_ratio_3,\n",
    "    \"backbone.layer3.0.conv2_(0, 256)_256\": stage_ratio_3,\n",
    "    \"backbone.layer3.1.conv1_(0, 256)_256\": stage_ratio_3,\n",
    "    \"backbone.layer3.2.conv1_(0, 256)_256\": stage_ratio_3,\n",
    "    \"backbone.layer3.3.conv1_(0, 256)_256\": stage_ratio_3,\n",
    "    \"backbone.layer3.4.conv1_(0, 256)_256\": stage_ratio_3,\n",
    "    \"backbone.layer3.5.conv1_(0, 256)_256\": stage_ratio_3,\n",
    "    \"backbone.layer4.0.conv1_(0, 512)_512\": stage_ratio_4,\n",
    "    \"backbone.layer4.0.conv2_(0, 512)_512\": stage_ratio_4,\n",
    "    \"backbone.layer4.1.conv1_(0, 512)_512\": stage_ratio_4,\n",
    "    \"backbone.layer4.2.conv1_(0, 512)_512\": stage_ratio_4\n",
    "}\n",
    "\"\"\""
   ]
  },
  {
   "cell_type": "code",
   "execution_count": 35,
   "metadata": {},
   "outputs": [],
   "source": [
    "config_string=config_string.replace('target_pruning_ratio={}',target_config)\n",
    "write_config(config_string,prune_config_path)"
   ]
  },
  {
   "cell_type": "markdown",
   "metadata": {},
   "source": [
    "### 5. 运行"
   ]
  },
  {
   "cell_type": "code",
   "execution_count": 36,
   "metadata": {},
   "outputs": [],
   "source": [
    "#! python ./tools/train.py $prune_config_path"
   ]
  },
  {
   "cell_type": "code",
   "execution_count": 37,
   "metadata": {},
   "outputs": [],
   "source": [
    "# 清理临时文件\n",
    "# ! rm prune_ratio_templace.json"
   ]
  }
 ],
 "metadata": {
  "kernelspec": {
   "display_name": "Python 3.9.13 ('lab2max')",
   "language": "python",
   "name": "python3"
  },
  "language_info": {
   "codemirror_mode": {
    "name": "ipython",
    "version": 3
   },
   "file_extension": ".py",
   "mimetype": "text/x-python",
   "name": "python",
   "nbconvert_exporter": "python",
   "pygments_lexer": "ipython3",
   "version": "3.9.13"
  },
  "orig_nbformat": 4,
  "vscode": {
   "interpreter": {
    "hash": "e31a827d0913016ad78e01c7b97f787f4b9e53102dd62d238e8548bcd97ff875"
   }
  }
 },
 "nbformat": 4,
 "nbformat_minor": 2
}
