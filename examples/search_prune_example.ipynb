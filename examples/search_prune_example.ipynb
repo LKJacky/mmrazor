{
 "cells": [
  {
   "cell_type": "code",
   "execution_count": null,
   "metadata": {},
   "outputs": [],
   "source": [
    "import os\n",
    "os.chdir('../')"
   ]
  },
  {
   "cell_type": "markdown",
   "metadata": {},
   "source": [
    "# 使用MMRazor对ResNet34进行剪枝"
   ]
  },
  {
   "cell_type": "markdown",
   "metadata": {},
   "source": [
    "## 回顾MMCls"
   ]
  },
  {
   "cell_type": "code",
   "execution_count": 17,
   "metadata": {},
   "outputs": [],
   "source": [
    "# Prepare config path\n",
    "work_dir='./prune_example/'\n",
    "config_path=f\"{work_dir}/configs/\"\n",
    "! mkdir -p $config_path\n",
    "\n",
    "pretrained_path='https://download.openmmlab.com/mmclassification/v0/resnet/resnet34_8xb32_in1k_20210831-f257d4e6.pth'"
   ]
  },
  {
   "cell_type": "code",
   "execution_count": 18,
   "metadata": {},
   "outputs": [
    {
     "name": "stdout",
     "output_type": "stream",
     "text": [
      "_base_ = ['mmcls::resnet/resnet34_8xb32_in1k.py']\n"
     ]
    }
   ],
   "source": [
    "! echo \"_base_ = ['mmcls::resnet/resnet34_8xb32_in1k.py']\" > $config_path/pretrain.py\n",
    "! cat $config_path/pretrain.py\n",
    "\n",
    "# Run config\n",
    "# ! python ./tools/train.py $config_path/pretrain.py"
   ]
  },
  {
   "cell_type": "markdown",
   "metadata": {},
   "source": [
    "## 准备剪枝结构搜索config\n",
    "1. 生成搜索config\n",
    "2. 运行搜索config\n",
    "3. 获得搜索出的最优结构"
   ]
  },
  {
   "cell_type": "markdown",
   "metadata": {},
   "source": [
    "### 1.生成搜索config\n",
    "我们提供了一个工具可以帮助我们一条命令行生成搜索算法config。改工具需要我们提供两个参数：config路径与checkpoint路径"
   ]
  },
  {
   "cell_type": "code",
   "execution_count": 19,
   "metadata": {},
   "outputs": [
    {
     "name": "stdout",
     "output_type": "stream",
     "text": [
      "usage: get_search_config.py [-h] [--flops-min FLOPS_MIN]\n",
      "                            [--flops-max FLOPS_MAX] [-o O]\n",
      "                            config checkpoint\n",
      "\n",
      "positional arguments:\n",
      "  config\n",
      "  checkpoint\n",
      "\n",
      "optional arguments:\n",
      "  -h, --help            show this help message and exit\n",
      "  --flops-min FLOPS_MIN\n",
      "  --flops-max FLOPS_MAX\n",
      "  -o O\n"
     ]
    }
   ],
   "source": [
    "! python tools/get_search_config.py -h"
   ]
  },
  {
   "cell_type": "code",
   "execution_count": null,
   "metadata": {},
   "outputs": [],
   "source": [
    "! python tools/get_search_config.py  $config_path/pretrain.py $pretrained_path -o $config_path/search.py   &> /dev/null \n",
    "! cat $config_path/search.py "
   ]
  },
  {
   "cell_type": "markdown",
   "metadata": {},
   "source": [
    "### 2. 我们可以直接运行该config从而进行剪枝结构的搜索"
   ]
  },
  {
   "cell_type": "code",
   "execution_count": null,
   "metadata": {},
   "outputs": [],
   "source": [
    "! python ./tools/train.py $config_path/search.py  --work-dir $work_dir/search/"
   ]
  },
  {
   "cell_type": "markdown",
   "metadata": {},
   "source": [
    "### 3. 获取搜索结果"
   ]
  },
  {
   "cell_type": "code",
   "execution_count": null,
   "metadata": {},
   "outputs": [],
   "source": [
    "!  cat $work_dir/search/best_fix_subnet.json"
   ]
  },
  {
   "cell_type": "markdown",
   "metadata": {},
   "source": [
    "## 准备剪枝Config"
   ]
  },
  {
   "cell_type": "code",
   "execution_count": null,
   "metadata": {},
   "outputs": [],
   "source": [
    "! python ./tools/get_prune_config.py $config_path/pretrain.py $pretrained_path -o $config_path/prune.py &> /dev/null\n",
    "! cat $config_path/prune.py"
   ]
  },
  {
   "cell_type": "code",
   "execution_count": null,
   "metadata": {},
   "outputs": [],
   "source": [
    "# change prune config\n",
    "from mmengine import fileio,Config\n",
    "pruning_subnet=fileio.load(f'{work_dir}/search/best_fix_subnet.json')\n",
    "pruning_config=Config.fromfile(f'{config_path}/prune.py')\n",
    "pruning_config['model']['target_pruning_ratio']=pruning_subnet\n",
    "pruning_config.dump(f'{config_path}/prune.py')\n",
    "! cat $config_path/prune.py"
   ]
  },
  {
   "cell_type": "code",
   "execution_count": null,
   "metadata": {},
   "outputs": [],
   "source": [
    "# run your prune config\n",
    "! python ./tools/train.py $config_path/prune.py --work-dir $work_dir/prune"
   ]
  },
  {
   "cell_type": "code",
   "execution_count": 16,
   "metadata": {},
   "outputs": [],
   "source": [
    "# ! rm -r $work_dir"
   ]
  }
 ],
 "metadata": {
  "kernelspec": {
   "display_name": "Python 3.9.13 ('lab2max')",
   "language": "python",
   "name": "python3"
  },
  "language_info": {
   "codemirror_mode": {
    "name": "ipython",
    "version": 3
   },
   "file_extension": ".py",
   "mimetype": "text/x-python",
   "name": "python",
   "nbconvert_exporter": "python",
   "pygments_lexer": "ipython3",
   "version": "3.9.13"
  },
  "orig_nbformat": 4,
  "vscode": {
   "interpreter": {
    "hash": "e31a827d0913016ad78e01c7b97f787f4b9e53102dd62d238e8548bcd97ff875"
   }
  }
 },
 "nbformat": 4,
 "nbformat_minor": 2
}
